{
 "cells": [
  {
   "cell_type": "markdown",
   "metadata": {},
   "source": [
    "# Read Face Data Using Open CV"
   ]
  },
  {
   "cell_type": "code",
   "execution_count": 3,
   "metadata": {},
   "outputs": [],
   "source": [
    "###################### Import Useful libraries #################\n",
    "import cv2\n",
    "import matplotlib.pyplot as plt\n",
    "import numpy as np"
   ]
  },
  {
   "cell_type": "code",
   "execution_count": 5,
   "metadata": {},
   "outputs": [
    {
     "name": "stdout",
     "output_type": "stream",
     "text": [
      "Enter the name of the person: hjask\n",
      "1\n",
      "2\n",
      "3\n",
      "4\n",
      "5\n",
      "6\n",
      "7\n",
      "8\n",
      "9\n",
      "10\n",
      "11\n",
      "(11, 30000)\n",
      "Data Sucessfully saved at ./Desktop/ML Data/Face_Data/hjask.npy\n"
     ]
    }
   ],
   "source": [
    "# Initialize Camera\n",
    "cap = cv2.VideoCapture(0)\n",
    "\n",
    "#Face Detection\n",
    "face_cascade = cv2.CascadeClassifier('Desktop/ML Data/haarcascade_frontalface_alt.xml')\n",
    "skip = 0\n",
    "face_data = []\n",
    "\n",
    "#Path for storing face data\n",
    "dataset_path = './Desktop/ML Data/Face_Data/'\n",
    "\n",
    "# Name of the file where data is being collected\n",
    "file_name = input(\"Enter the name of the person: \")\n",
    "\n",
    "\n",
    "while True:\n",
    "    ret, frame = cap.read()\n",
    "    if ret == False:\n",
    "        continue\n",
    "    \n",
    "    # For grey scale image (Saves Memory)\n",
    "    gray_frame = cv2.cvtColor(frame, cv2.COLOR_BGR2GRAY)\n",
    "    \n",
    "    # For normal RGB image\n",
    "    faces = face_cascade.detectMultiScale(frame,1.3,5)\n",
    "    if len(faces)==0:\n",
    "        continue\n",
    "    \n",
    "    # Pick the last face (because it is the largest face acc to area(f[2]*f[3]))\n",
    "    faces = sorted(faces, key=lambda  f:f[2]*f[3])\n",
    "    \n",
    "    for (x,y,w,h) in faces[-1:]:\n",
    "        cv2.rectangle(frame, (x,y),(x+w, x+h),(0,255,255),2)\n",
    "        \n",
    "        #Extract (Crop out the required face): Region of Interest\n",
    "        offset = 10\n",
    "        face_section = frame[y-offset:y+h+offset, x-offset:x+w+offset]\n",
    "        face_section = cv2.resize(face_section, (100, 100))\n",
    "        \n",
    "        skip += 1\n",
    "        if skip%10==0:\n",
    "            face_data.append(face_section)\n",
    "            print(len(face_data))\n",
    "            \n",
    "        \n",
    "    # Opens up the Camera\n",
    "    cv2.imshow(\"VideoFrame\", frame)\n",
    "    \n",
    "    cv2.imshow(\"Face Section\",face_section)\n",
    "    \n",
    "    key_pressed = cv2.waitKey(1) & 0xFF\n",
    "    if key_pressed == ord('q'):\n",
    "        break\n",
    "\n",
    "#Convert our face list array into a numpy array\n",
    "face_data = np.asarray(face_data)\n",
    "face_data = face_data.reshape((face_data.shape[0], -1))\n",
    "print(face_data.shape)\n",
    "\n",
    "#Save this data into file system\n",
    "np.save(dataset_path+file_name+'.npy', face_data)\n",
    "\n",
    "# Acknowledgement about succesfull operation\n",
    "print(\"Data Sucessfully saved at \"+dataset_path+file_name+'.npy')\n",
    "cap.release()\n",
    "cv2.destroyAllWindows()"
   ]
  },
  {
   "cell_type": "code",
   "execution_count": null,
   "metadata": {},
   "outputs": [],
   "source": []
  }
 ],
 "metadata": {
  "kernelspec": {
   "display_name": "Python 3",
   "language": "python",
   "name": "python3"
  },
  "language_info": {
   "codemirror_mode": {
    "name": "ipython",
    "version": 3
   },
   "file_extension": ".py",
   "mimetype": "text/x-python",
   "name": "python",
   "nbconvert_exporter": "python",
   "pygments_lexer": "ipython3",
   "version": "3.7.1"
  }
 },
 "nbformat": 4,
 "nbformat_minor": 2
}
